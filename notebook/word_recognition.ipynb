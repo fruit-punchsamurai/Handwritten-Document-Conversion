{
 "cells": [
  {
   "cell_type": "code",
   "execution_count": null,
   "metadata": {},
   "outputs": [],
   "source": [
    "from tensorflow.keras.layers import StringLookup\n",
    "from tensorflow import keras\n",
    "\n",
    "import matplotlib.pyplot as plt\n",
    "import tensorflow as tf\n",
    "import numpy as np\n",
    "import os\n",
    "import pickle\n",
    "\n",
    "np.random.seed(42)\n",
    "tf.random.set_seed(42)"
   ]
  },
  {
   "cell_type": "code",
   "execution_count": null,
   "metadata": {},
   "outputs": [],
   "source": [
    "base_path = \".\"\n",
    "words_list = []\n",
    "\n",
    "words = open(f\"{base_path}/words.txt\",\"r\").readlines()\n",
    "for line in words:\n",
    "  if line[0] == \"#\":\n",
    "    continue\n",
    "  if line.split(\" \")[1] != \"err\":\n",
    "    words_list.append(line)\n",
    "\n",
    "print(len(words_list))\n",
    "words_list = [entry for entry in words_list if 'r06-022-03-05 ok 184 924 1304 132 29 QL' not in entry]\n",
    "print(len(words_list))\n",
    "np.random.shuffle(words_list)"
   ]
  },
  {
   "cell_type": "code",
   "execution_count": null,
   "metadata": {},
   "outputs": [],
   "source": [
    "split_idx = int(0.9 * len(words_list))\n",
    "train_samples = words_list[:split_idx]\n",
    "test_samples = words_list[split_idx:]\n",
    "\n",
    "val_split_idx = int(0.5 * len(test_samples))\n",
    "validation_samples = test_samples[:val_split_idx]\n",
    "test_samples = test_samples[val_split_idx:]\n",
    "\n",
    "assert len(words_list) == len(train_samples) + len(validation_samples) + len(test_samples)\n",
    "\n",
    "print(f\"Total training samples : {len(train_samples)}\")\n",
    "print(f\"Total validation samples: {len(validation_samples)}\")\n",
    "print(f\"Total testing samples: {len(test_samples)}\")\n"
   ]
  },
  {
   "cell_type": "code",
   "execution_count": null,
   "metadata": {},
   "outputs": [],
   "source": [
    "base_image_path = os.path.join(base_path,\"words\")\n",
    "def get_image_paths_and_labels(samples):\n",
    "  paths = []\n",
    "  corrected_samples = []\n",
    "  for (i,file_line) in enumerate(samples):\n",
    "    line_split = file_line.strip()\n",
    "    line_split = line_split.split(\" \")\n",
    "\n",
    "    image_name = line_split[0]\n",
    "    partI = image_name.split(\"-\")[0]\n",
    "    partII = image_name.split(\"-\")[1]\n",
    "    img_path = os.path.join(base_image_path,partI,partI+'-'+partII,image_name+\".png\")\n",
    "    if os.path.getsize(img_path):\n",
    "      paths.append(img_path)\n",
    "      corrected_samples.append(file_line.split(\"\\n\")[0])\n",
    "  return paths,corrected_samples\n",
    "\n",
    "train_img_paths, train_labels = get_image_paths_and_labels(train_samples)\n",
    "validation_img_paths, validation_labels = get_image_paths_and_labels(validation_samples)\n",
    "test_img_paths, test_labels = get_image_paths_and_labels(test_samples)"
   ]
  },
  {
   "cell_type": "code",
   "execution_count": null,
   "metadata": {},
   "outputs": [],
   "source": [
    "train_labels_cleaned=[]\n",
    "characters = set()\n",
    "max_len = 0\n",
    "\n",
    "for label in train_labels:\n",
    "  label = label.split(\" \")[-1].strip()\n",
    "  for char in label:\n",
    "    characters.add(char)\n",
    "\n",
    "  max_len = max(max_len,len(label))\n",
    "  train_labels_cleaned.append(label)\n",
    "\n",
    "print(\"maximum length: \",max_len)\n",
    "print(\"Vocab size: \",len(characters))"
   ]
  },
  {
   "cell_type": "code",
   "execution_count": null,
   "metadata": {},
   "outputs": [],
   "source": [
    "def clean_labels(labels):\n",
    "  cleaned_labels = []\n",
    "  for label in labels:\n",
    "    label = label.split(\" \")[-1].strip()\n",
    "    cleaned_labels.append(label)\n",
    "  return cleaned_labels\n",
    "\n",
    "validation_labels_cleaned = clean_labels(validation_labels)\n",
    "test_labels_cleaned = clean_labels(test_labels)"
   ]
  },
  {
   "cell_type": "markdown",
   "metadata": {},
   "source": [
    "RUN BELOW CELL IF RUNNING FOR FIRST TIME"
   ]
  },
  {
   "cell_type": "code",
   "execution_count": null,
   "metadata": {},
   "outputs": [],
   "source": [
    "##if running model for first time run this cell to save the list of characters and use this save file for for next runs\n",
    "\n",
    "# ff = list(characters)\n",
    "# filename = 'characters_list.pkl'\n",
    "# with open(filename, 'wb') as file:\n",
    "#     pickle.dump(ff, file)"
   ]
  },
  {
   "cell_type": "code",
   "execution_count": null,
   "metadata": {},
   "outputs": [],
   "source": [
    "\n",
    "# Load the list from the file\n",
    "with open('characters_list.pkl', 'rb') as file:\n",
    "    ff_loaded = pickle.load(file)\n",
    "\n",
    "# Verify if the loaded list is the same as the original\n",
    "print(ff_loaded)"
   ]
  },
  {
   "cell_type": "code",
   "execution_count": null,
   "metadata": {},
   "outputs": [],
   "source": [
    "AUTOTUNE = tf.data.AUTOTUNE\n",
    "\n",
    "#mapping characters to integers\n",
    "char_to_num = StringLookup(vocabulary = ff_loaded,mask_token = None)\n",
    "\n",
    "#mapping integers back to original characters\n",
    "num_to_char = StringLookup(\n",
    "    vocabulary = char_to_num.get_vocabulary(),mask_token=None, invert = True\n",
    ")"
   ]
  },
  {
   "cell_type": "code",
   "execution_count": null,
   "metadata": {},
   "outputs": [],
   "source": [
    "def distortion_free_resize(image,img_size):\n",
    "  w,h = img_size\n",
    "  image = tf.image.resize(image,size=(h,w),preserve_aspect_ratio = True)\n",
    "\n",
    "  #check the amount of padding needed to be done.\n",
    "  pad_height = h - tf.shape(image)[0]\n",
    "  pad_width = w - tf.shape(image)[1]\n",
    "\n",
    "  # only necessary if you want to do same amount of padding on both sides.\n",
    "  if pad_height % 2 != 0:\n",
    "    height = pad_height // 2\n",
    "    pad_height_top = height + 1\n",
    "    pad_height_bottom = height\n",
    "  else:\n",
    "    pad_height_top = pad_height_bottom = pad_height//2\n",
    "  if pad_width %2 != 0:\n",
    "    width = pad_width//2\n",
    "    pad_width_left = width + 1\n",
    "    pad_width_right = width\n",
    "  else:\n",
    "    pad_width_left = pad_width_right = pad_width//2\n",
    "\n",
    "  image = tf.pad(\n",
    "      image,\n",
    "      paddings = [\n",
    "          [pad_height_top, pad_height_bottom],\n",
    "          [pad_width_left, pad_width_right],\n",
    "          [0,0],\n",
    "      ],\n",
    "  )\n",
    "\n",
    "  image = tf.transpose(image, perm= [1,0,2])\n",
    "  image = tf.image.flip_left_right(image)\n",
    "  return image\n"
   ]
  },
  {
   "cell_type": "code",
   "execution_count": null,
   "metadata": {},
   "outputs": [],
   "source": [
    "batch_size = 64\n",
    "padding_token = 99\n",
    "image_width = 128\n",
    "image_height = 32\n",
    "\n",
    "def preprocess_image(image_path, img_size=(image_width,image_height)):\n",
    "  image = tf.io.read_file(image_path)\n",
    "  image = tf.image.decode_png(image,1)\n",
    "  image = distortion_free_resize(image,img_size)\n",
    "  image = tf.cast(image,tf.float32)/255.0\n",
    "  return image\n",
    "\n",
    "def vectorize_label(label):\n",
    "  label = char_to_num(tf.strings.unicode_split(label,input_encoding = \"UTF-8\"))\n",
    "  length = tf.shape(label)[0]\n",
    "  pad_amount = max_len - length\n",
    "  label = tf.pad(label, paddings = [[0,pad_amount]],constant_values=padding_token)\n",
    "  return label\n",
    "\n",
    "def process_images_labels(image_path,label):\n",
    "  image = preprocess_image(image_path)\n",
    "  label = vectorize_label(label)\n",
    "  return{\"image\": image, \"label\" : label}\n",
    "\n",
    "def prepare_dataset(image_paths, labels):\n",
    "  dataset = tf.data.Dataset.from_tensor_slices((image_paths,labels)).map(\n",
    "      process_images_labels,num_parallel_calls=AUTOTUNE\n",
    "  )\n",
    "  return dataset.batch(batch_size).cache().prefetch(AUTOTUNE)"
   ]
  },
  {
   "cell_type": "code",
   "execution_count": null,
   "metadata": {},
   "outputs": [],
   "source": [
    "train_ds = prepare_dataset(train_img_paths,train_labels_cleaned)\n",
    "validation_ds = prepare_dataset(validation_img_paths,validation_labels_cleaned)\n",
    "test_ds = prepare_dataset(test_img_paths, test_labels_cleaned)"
   ]
  },
  {
   "cell_type": "code",
   "execution_count": null,
   "metadata": {},
   "outputs": [],
   "source": [
    "for data in train_ds.take(1):\n",
    "  images,labels = data[\"image\"],data[\"label\"]\n",
    "  _,ax=plt.subplots(4,4,figsize=(15,8))\n",
    "  for i in range(16):\n",
    "    img = images[i]\n",
    "    img = tf.image.flip_left_right(img)\n",
    "    img = tf.transpose(img,perm=[1,0,2])\n",
    "    img = (img * 255.0).numpy().clip(0,255).astype(np.uint8)\n",
    "    img = img[:,:,0]\n",
    "\n",
    "    #gather indices where label!=padding_token.\n",
    "    label = labels[i]\n",
    "    indices = tf.gather(label,tf.where(tf.math.not_equal(label,padding_token)))\n",
    "    #convert to string\n",
    "    label = tf.strings.reduce_join(num_to_char(indices))\n",
    "    label = label.numpy().decode(\"utf-8\")\n",
    "\n",
    "    ax[i//4, i %4].imshow(img,cmap=\"gray\")\n",
    "    ax[i//4,i%4].set_title(label)\n",
    "    ax[i//4,i%4].axis(\"off\")\n",
    "\n",
    "plt.show()"
   ]
  },
  {
   "cell_type": "code",
   "execution_count": null,
   "metadata": {},
   "outputs": [],
   "source": [
    "class CTCLayer(keras.layers.Layer):\n",
    "  def __init__(self,name=None):\n",
    "    super().__init__(name=name)\n",
    "    self.loss_fn = keras.backend.ctc_batch_cost\n",
    "\n",
    "  def call(self,y_true,y_pred):\n",
    "    batch_len = tf.cast(tf.shape(y_true)[0],dtype=\"int64\")\n",
    "    input_length = tf.cast(tf.shape(y_pred)[1],dtype=\"int64\")\n",
    "    label_length = tf.cast(tf.shape(y_true)[1],dtype=\"int64\")\n",
    "\n",
    "    input_length = input_length * tf.ones(shape=(batch_len,1),dtype=\"int64\")\n",
    "    label_length = label_length * tf.ones(shape=(batch_len,1),dtype=\"int64\")\n",
    "    loss = self.loss_fn(y_true,y_pred,input_length,label_length)\n",
    "    self.add_loss(loss)\n",
    "\n",
    "    return y_pred\n",
    "\n",
    "\n"
   ]
  },
  {
   "cell_type": "code",
   "execution_count": null,
   "metadata": {},
   "outputs": [],
   "source": [
    "def build_model():\n",
    "  #inputs to the model\n",
    "  input_img = keras.Input(shape=(image_width,image_height,1),name = \"image\")\n",
    "  labels = keras.layers.Input(name=\"label\",shape = (None,))\n",
    "\n",
    "  #first conv block\n",
    "  x = keras.layers.Conv2D(\n",
    "      32,\n",
    "      (3,3),\n",
    "      activation = \"relu\",\n",
    "      kernel_initializer = \"he_normal\",\n",
    "      padding = \"same\",\n",
    "      name = \"Conv1\",\n",
    "  )(input_img)\n",
    "  x = keras.layers.MaxPooling2D((2,2),name = \"pool1\")(x)\n",
    "\n",
    "  #second conv block\n",
    "  x = keras.layers.Conv2D(\n",
    "      64,\n",
    "      (3,3),\n",
    "      activation = \"relu\",\n",
    "      kernel_initializer = \"he_normal\",\n",
    "      padding = \"same\",\n",
    "      name=\"Conv2\"\n",
    "  )(x)\n",
    "\n",
    "  x = keras.layers.MaxPooling2D((2,2), name = \"pool2\")(x)\n",
    "\n",
    "  new_shape = ((image_width//4),(image_height//4)*64)\n",
    "  x = keras.layers.Reshape(target_shape = new_shape, name = \"reshape\")(x)\n",
    "  x = keras.layers.Dense(64,activation =\"relu\",name = \"dense1\")(x)\n",
    "  x = keras.layers.Dropout(0.2)(x)\n",
    "\n",
    "  # RNNS\n",
    "  x = keras.layers.Bidirectional(\n",
    "      keras.layers.LSTM(128, return_sequences = True, dropout = 0.25)\n",
    "  )(x)\n",
    "  x = keras.layers.Bidirectional(\n",
    "      keras.layers.LSTM(64,return_sequences = True, dropout = 0.25)\n",
    "  )(x)\n",
    "\n",
    "  # +2 to account for the two special tokens introduced by the CTC loss\n",
    "\n",
    "  x = keras.layers.Dense(\n",
    "      len(char_to_num.get_vocabulary()) + 2, activation = \"softmax\", name = \"dense2\"\n",
    "  )(x)\n",
    "\n",
    "  # add CTC layer for calculation ctc loss at each step\n",
    "  output = CTCLayer(name=\"ctc_loss\")(labels,x)\n",
    "\n",
    "  #define the model\n",
    "  model = keras.models.Model(\n",
    "      inputs=[input_img,labels],outputs=output , name = \"handwriting_recognizer\"\n",
    "  )\n",
    "\n",
    "  #optimizer\n",
    "  opt = keras.optimizers.Adam()\n",
    "\n",
    "  #compile the model and return\n",
    "\n",
    "  model.compile(optimizer=opt)\n",
    "  return model\n",
    "\n",
    "\n",
    "# get the model\n",
    "model = build_model()\n",
    "model.summary()"
   ]
  },
  {
   "cell_type": "code",
   "execution_count": null,
   "metadata": {},
   "outputs": [],
   "source": [
    "validation_images = []\n",
    "validation_labels = []\n",
    "\n",
    "for batch in validation_ds:\n",
    "  validation_images.append(batch[\"image\"])\n",
    "  validation_labels.append(batch[\"label\"])\n"
   ]
  },
  {
   "cell_type": "code",
   "execution_count": null,
   "metadata": {},
   "outputs": [],
   "source": [
    "def calculate_edit_distance(labels,predictions):\n",
    "  saprse_labels = tf.cast(tf.sparse.from_dense(labels),dtype=tf.int64)\n",
    "\n",
    "  input_len = np.ones(predictions.shape[0]) * predictions.shape[1]\n",
    "  predictions_decoded = keras.backend.ctc_decode(\n",
    "      predictions,input_length = input_len, greedy=True\n",
    "  )[0][0][:,:max_len]\n",
    "  sparse_predictions = tf.cast(\n",
    "      tf.sparse.from_dense(predictions_decoded),dtype = tf.int64\n",
    "  )\n",
    "\n",
    "  edit_distances = tf.edit_distance(\n",
    "      sparse_predictions, saprse_labels, normalize = False\n",
    "  )\n",
    "  return tf.reduce_mean(edit_distances)\n",
    "\n",
    "class EditDistanceCallback(keras.callbacks.Callback):\n",
    "    def __init__(self, pred_model, train_losses=None, val_losses=None, val_mean_edit_distance=None):\n",
    "        super().__init__()\n",
    "        self.prediction_model = pred_model\n",
    "        self.train_losses = train_losses if train_losses is not None else []\n",
    "        self.val_losses = val_losses if val_losses is not None else []\n",
    "        self.val_mean_edit_distance = val_mean_edit_distance if val_mean_edit_distance is not None else []\n",
    "\n",
    "    def on_epoch_end(self, epoch, logs=None):\n",
    "        edit_distances = []\n",
    "\n",
    "        for i in range(len(validation_images)):\n",
    "            labels = validation_labels[i]\n",
    "            predictions = self.prediction_model.predict(validation_images[i])\n",
    "            edit_distances.append(calculate_edit_distance(labels, predictions).numpy())\n",
    "\n",
    "        mean_edit_distance = np.mean(edit_distances)\n",
    "        self.val_mean_edit_distance.append(mean_edit_distance)\n",
    "        self.train_losses.append(logs.get(\"loss\"))\n",
    "        self.val_losses.append(logs.get(\"val_loss\"))\n",
    "        print(\n",
    "            f\"Mean edit distance for epoch {epoch + 1}: {mean_edit_distance:.4f}\"\n",
    "        )"
   ]
  },
  {
   "cell_type": "code",
   "execution_count": null,
   "metadata": {},
   "outputs": [],
   "source": [
    "epochs = 10\n",
    "model = build_model()"
   ]
  },
  {
   "cell_type": "code",
   "execution_count": null,
   "metadata": {},
   "outputs": [],
   "source": [
    "prediction_model = keras.models.Model(\n",
    "    model.get_layer(name=\"image\").input, model.get_layer(name = \"dense2\").output\n",
    ")"
   ]
  },
  {
   "cell_type": "code",
   "execution_count": null,
   "metadata": {},
   "outputs": [],
   "source": [
    "edit_distance_callback = EditDistanceCallback(prediction_model)"
   ]
  },
  {
   "cell_type": "code",
   "execution_count": null,
   "metadata": {},
   "outputs": [],
   "source": [
    "history = model.fit(\n",
    "    train_ds,\n",
    "    validation_data=validation_ds,\n",
    "    epochs = epochs,\n",
    "    callbacks =[edit_distance_callback],\n",
    ")"
   ]
  },
  {
   "cell_type": "code",
   "execution_count": null,
   "metadata": {},
   "outputs": [],
   "source": [
    "plt.figure(figsize=(12, 6))\n",
    "plt.plot(edit_distance_callback.train_losses, label='Training Loss')\n",
    "plt.plot(edit_distance_callback.val_losses, label='Validation Loss')\n",
    "plt.xlabel('Epoch')\n",
    "plt.ylabel('Loss')\n",
    "plt.title('Training and Validation Loss')\n",
    "plt.legend()\n",
    "plt.grid(True)\n",
    "plt.show()"
   ]
  },
  {
   "cell_type": "code",
   "execution_count": null,
   "metadata": {},
   "outputs": [],
   "source": [
    "# Save model\n",
    "epochs_trained = 0\n",
    "epochs_trained = epochs_trained + epochs\n",
    "model.save('handwriting_recognizer.h5')\n",
    "prediction_model.save('prediction.h5')\n",
    "# Save loss values (train_losses and edit_distance_callback.val_losses)\n",
    "np.savez(\n",
    "    'loss_values.npz', train_losses=edit_distance_callback.train_losses, \n",
    "    val_losses=edit_distance_callback.val_losses,\n",
    "    val_mean_edit_distance = edit_distance_callback.val_mean_edit_distance, \n",
    "    epochs_trained = epochs\n",
    "    )"
   ]
  },
  {
   "cell_type": "code",
   "execution_count": null,
   "metadata": {},
   "outputs": [],
   "source": [
    "def decode_batch_prediction(pred):\n",
    "  input_len = np.ones(pred.shape[0]) * pred.shape[1]\n",
    "  results = keras.backend.ctc_decode(pred,input_length = input_len, greedy = True)[0][0][:,:max_len]\n",
    "  output_text = []\n",
    "  for res in results:\n",
    "    res = tf.gather(res,tf.where(tf.math.not_equal(res,-1)))\n",
    "    res = tf.strings.reduce_join(num_to_char(res)).numpy().decode(\"utf-8\")\n",
    "    output_text.append(res)\n",
    "  return output_text"
   ]
  },
  {
   "cell_type": "code",
   "execution_count": null,
   "metadata": {},
   "outputs": [],
   "source": [
    "# display the 1st 16 images from batch 1 on test data\n",
    "for batch in test_ds.take(1):\n",
    "  batch_images = batch[\"image\"]\n",
    "  _,ax = plt.subplots(4,4,figsize=(15,8))\n",
    "  preds = prediction_model.predict(batch_images)\n",
    "  pred_texts = decode_batch_prediction(preds)\n",
    "\n",
    "  for i in range (16):\n",
    "    img = batch_images[i]\n",
    "    img = tf.image.flip_left_right(img)\n",
    "    img = tf.transpose(img,perm=[1,0,2])\n",
    "    img = (img*255.0).numpy().clip(0,255).astype(np.uint8)\n",
    "    img = img[:,:,0]\n",
    "\n",
    "    title = f\"Prediction: {pred_texts[i]}\"\n",
    "    ax[i//4,i%4].imshow(img,cmap=\"gray\")\n",
    "    ax[i//4,i%4].set_title(title)\n",
    "    ax[i//4,i%4].axis(\"off\")\n",
    "\n",
    "  plt.show()"
   ]
  },
  {
   "cell_type": "code",
   "execution_count": null,
   "metadata": {},
   "outputs": [],
   "source": [
    "def decode_single_prediction(pred):\n",
    "    input_len = np.ones(1) * pred.shape[1]\n",
    "    results = keras.backend.ctc_decode(pred, input_length=input_len, greedy=True)[0][0][0][:max_len]\n",
    "    res = tf.gather(results, tf.where(tf.math.not_equal(results, -1)))\n",
    "    return tf.strings.reduce_join(num_to_char(res)).numpy().decode(\"utf-8\")"
   ]
  },
  {
   "cell_type": "code",
   "execution_count": null,
   "metadata": {},
   "outputs": [],
   "source": [
    "# check on single image\n",
    "my_img_path = 'Image_Path'\n",
    "my_img = preprocess_image(my_img_path)\n",
    "my_pred = prediction_model.predict(tf.expand_dims(my_img, axis=0))\n",
    "predicted_text = decode_single_prediction(my_pred)\n",
    "print(predicted_text)\n",
    "img = tf.image.flip_left_right(my_img)\n",
    "img = tf.transpose(img,perm=[1,0,2])\n",
    "img = (img*255.0).numpy().clip(0,255).astype(np.uint8)\n",
    "img = img[:,:,0]\n",
    "plt.figure(figsize=(6, 6))  \n",
    "plt.imshow(img, cmap='gray')  \n",
    "plt.title(f'{predicted_text}')  \n",
    "plt.axis('off')  \n",
    "plt.show()"
   ]
  },
  {
   "cell_type": "code",
   "execution_count": null,
   "metadata": {},
   "outputs": [],
   "source": [
    "def evaluate_test_set(test_ds, prediction_model, max_len):\n",
    "    total_edit_distance = 0\n",
    "    num_batches = 0\n",
    "\n",
    "    for batch in test_ds:\n",
    "        batch_images = batch[\"image\"]\n",
    "        batch_labels = batch[\"label\"]\n",
    "        preds = prediction_model.predict(batch_images)\n",
    "\n",
    "        # Calculate edit distance for the current batch\n",
    "        batch_edit_distance = calculate_edit_distance(batch_labels, preds)\n",
    "        total_edit_distance += batch_edit_distance\n",
    "        num_batches += 1\n",
    "\n",
    "    mean_edit_distance = total_edit_distance / num_batches\n",
    "    return mean_edit_distance"
   ]
  },
  {
   "cell_type": "code",
   "execution_count": null,
   "metadata": {},
   "outputs": [],
   "source": [
    "# Evaluate model on test set by finding mean edit distance\n",
    "test_mean_edit_distance = evaluate_test_set(test_ds, prediction_model, max_len)\n",
    "print(f\"Mean edit distance on test set: {test_mean_edit_distance:.4f}\")"
   ]
  },
  {
   "cell_type": "code",
   "execution_count": 22,
   "metadata": {},
   "outputs": [],
   "source": [
    "custom_objects = {'CTCLayer': CTCLayer}\n",
    "with keras.utils.custom_object_scope(custom_objects):\n",
    "    model = keras.models.load_model('saved models/handwriting_recognizer_50.h5')\n",
    "\n",
    "# Load loss values\n",
    "loss_data = np.load('saved models/loss_values_50.npz')\n",
    "train_losses = loss_data['train_losses']\n",
    "val_losses = loss_data['val_losses']\n",
    "val_mean_edit_distance = loss_data['val_mean_edit_distance']\n",
    "epochs_trained = loss_data['epochs_trained'].item()  # Load as integer"
   ]
  },
  {
   "cell_type": "code",
   "execution_count": 25,
   "metadata": {},
   "outputs": [
    {
     "data": {
      "image/png": "[encoded data removed]",
      "text/plain": [
       "<Figure size 1200x600 with 1 Axes>"
      ]
     },
     "metadata": {},
     "output_type": "display_data"
    }
   ],
   "source": [
    "plt.figure(figsize=(12, 6))\n",
    "plt.plot(train_losses, label='Training Loss')\n",
    "plt.plot(val_losses, label='Validation Loss')\n",
    "plt.plot(val_mean_edit_distance,label='Mean Edit Distance')\n",
    "plt.xlabel('Epoch')\n",
    "plt.ylabel('Loss')\n",
    "plt.title('Training and Validation Loss')\n",
    "plt.legend()\n",
    "plt.grid(True)\n",
    "plt.savefig(\"loss-curve.png\")\n",
    "plt.show()\n"
   ]
  },
  {
   "cell_type": "code",
   "execution_count": null,
   "metadata": {},
   "outputs": [],
   "source": []
  }
 ],
 "metadata": {
  "kernelspec": {
   "display_name": "HANDWRITING",
   "language": "python",
   "name": "python3"
  },
  "language_info": {
   "codemirror_mode": {
    "name": "ipython",
    "version": 3
   },
   "file_extension": ".py",
   "mimetype": "text/x-python",
   "name": "python",
   "nbconvert_exporter": "python",
   "pygments_lexer": "ipython3",
   "version": "3.10.12"
  }
 },
 "nbformat": 4,
 "nbformat_minor": 2
}
